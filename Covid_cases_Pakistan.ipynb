{
  "nbformat": 4,
  "nbformat_minor": 0,
  "metadata": {
    "colab": {
      "name": "Covid_cases Pakistan.ipynb",
      "provenance": [],
      "collapsed_sections": []
    },
    "kernelspec": {
      "name": "python3",
      "display_name": "Python 3"
    }
  },
  "cells": [
    {
      "cell_type": "code",
      "metadata": {
        "id": "zNLJZTmP4BAQ",
        "colab_type": "code",
        "colab": {}
      },
      "source": [
        "!pip install geopandas\n",
        "!pip install mapclassify\n"
      ],
      "execution_count": null,
      "outputs": []
    },
    {
      "cell_type": "code",
      "metadata": {
        "id": "z3B15NIg90HM",
        "colab_type": "code",
        "colab": {
          "base_uri": "https://localhost:8080/",
          "height": 433
        },
        "outputId": "9a014f52-2a25-4ce4-b743-6bc150444e74"
      },
      "source": [
        "import geopandas as gpd\n",
        "PAK = gpd.read_file('gadm36_PAK_1.shp')\n",
        "PAK\n"
      ],
      "execution_count": 75,
      "outputs": [
        {
          "output_type": "execute_result",
          "data": {
            "text/html": [
              "<div>\n",
              "<style scoped>\n",
              "    .dataframe tbody tr th:only-of-type {\n",
              "        vertical-align: middle;\n",
              "    }\n",
              "\n",
              "    .dataframe tbody tr th {\n",
              "        vertical-align: top;\n",
              "    }\n",
              "\n",
              "    .dataframe thead th {\n",
              "        text-align: right;\n",
              "    }\n",
              "</style>\n",
              "<table border=\"1\" class=\"dataframe\">\n",
              "  <thead>\n",
              "    <tr style=\"text-align: right;\">\n",
              "      <th></th>\n",
              "      <th>GID_0</th>\n",
              "      <th>NAME_0</th>\n",
              "      <th>GID_1</th>\n",
              "      <th>NAME_1</th>\n",
              "      <th>VARNAME_1</th>\n",
              "      <th>NL_NAME_1</th>\n",
              "      <th>TYPE_1</th>\n",
              "      <th>ENGTYPE_1</th>\n",
              "      <th>CC_1</th>\n",
              "      <th>HASC_1</th>\n",
              "      <th>geometry</th>\n",
              "    </tr>\n",
              "  </thead>\n",
              "  <tbody>\n",
              "    <tr>\n",
              "      <th>0</th>\n",
              "      <td>PAK</td>\n",
              "      <td>Pakistan</td>\n",
              "      <td>PAK.1_1</td>\n",
              "      <td>Azad Kashmir</td>\n",
              "      <td>Kashmir</td>\n",
              "      <td>None</td>\n",
              "      <td>Centrally Administered Area</td>\n",
              "      <td>Centrally Administered Area</td>\n",
              "      <td>None</td>\n",
              "      <td>PK.JK</td>\n",
              "      <td>POLYGON ((74.39078 32.80176, 74.38804 32.80345...</td>\n",
              "    </tr>\n",
              "    <tr>\n",
              "      <th>1</th>\n",
              "      <td>PAK</td>\n",
              "      <td>Pakistan</td>\n",
              "      <td>PAK.2_1</td>\n",
              "      <td>Baluchistan</td>\n",
              "      <td>Balochistan|BéloutchistanBeluchistan|Baluchistão</td>\n",
              "      <td>None</td>\n",
              "      <td>Province</td>\n",
              "      <td>Province</td>\n",
              "      <td>None</td>\n",
              "      <td>PK.BA</td>\n",
              "      <td>MULTIPOLYGON (((66.60542 24.90264, 66.60542 24...</td>\n",
              "    </tr>\n",
              "    <tr>\n",
              "      <th>2</th>\n",
              "      <td>PAK</td>\n",
              "      <td>Pakistan</td>\n",
              "      <td>PAK.3_1</td>\n",
              "      <td>F.A.T.A.</td>\n",
              "      <td>Federally Administered Tribal Areas</td>\n",
              "      <td>None</td>\n",
              "      <td>Territory</td>\n",
              "      <td>Territory</td>\n",
              "      <td>None</td>\n",
              "      <td>PK.TA</td>\n",
              "      <td>POLYGON ((70.36974 31.24586, 70.36703 31.22587...</td>\n",
              "    </tr>\n",
              "    <tr>\n",
              "      <th>3</th>\n",
              "      <td>PAK</td>\n",
              "      <td>Pakistan</td>\n",
              "      <td>PAK.4_1</td>\n",
              "      <td>F.C.T.</td>\n",
              "      <td>Islamabad|Federal Capital Territory|Federal Ca...</td>\n",
              "      <td>None</td>\n",
              "      <td>Capital Territory</td>\n",
              "      <td>Capital Territory</td>\n",
              "      <td>None</td>\n",
              "      <td>PK.IS</td>\n",
              "      <td>POLYGON ((73.14516 33.80333, 73.17208 33.78874...</td>\n",
              "    </tr>\n",
              "    <tr>\n",
              "      <th>4</th>\n",
              "      <td>PAK</td>\n",
              "      <td>Pakistan</td>\n",
              "      <td>PAK.5_1</td>\n",
              "      <td>N.W.F.P.</td>\n",
              "      <td>North-West Frontier Province</td>\n",
              "      <td>None</td>\n",
              "      <td>Province</td>\n",
              "      <td>Province</td>\n",
              "      <td>None</td>\n",
              "      <td>PK.NW</td>\n",
              "      <td>POLYGON ((73.23890 33.83454, 73.23631 33.83214...</td>\n",
              "    </tr>\n",
              "    <tr>\n",
              "      <th>5</th>\n",
              "      <td>PAK</td>\n",
              "      <td>Pakistan</td>\n",
              "      <td>PAK.6_1</td>\n",
              "      <td>Northern Areas</td>\n",
              "      <td>None</td>\n",
              "      <td>None</td>\n",
              "      <td>Centrally Administered Area</td>\n",
              "      <td>Centrally Administered Area</td>\n",
              "      <td>None</td>\n",
              "      <td>PK.NA</td>\n",
              "      <td>POLYGON ((75.24538 34.90744, 75.22611 34.88849...</td>\n",
              "    </tr>\n",
              "    <tr>\n",
              "      <th>6</th>\n",
              "      <td>PAK</td>\n",
              "      <td>Pakistan</td>\n",
              "      <td>PAK.7_1</td>\n",
              "      <td>Punjab</td>\n",
              "      <td>Pendjab|Penjab</td>\n",
              "      <td>None</td>\n",
              "      <td>Province</td>\n",
              "      <td>Province</td>\n",
              "      <td>None</td>\n",
              "      <td>PK.PB</td>\n",
              "      <td>POLYGON ((71.12506 27.79225, 71.08701 27.77679...</td>\n",
              "    </tr>\n",
              "    <tr>\n",
              "      <th>7</th>\n",
              "      <td>PAK</td>\n",
              "      <td>Pakistan</td>\n",
              "      <td>PAK.8_1</td>\n",
              "      <td>Sind</td>\n",
              "      <td>Sindh</td>\n",
              "      <td>None</td>\n",
              "      <td>Province</td>\n",
              "      <td>Province</td>\n",
              "      <td>None</td>\n",
              "      <td>PK.SD</td>\n",
              "      <td>MULTIPOLYGON (((67.99069 23.76347, 67.99069 23...</td>\n",
              "    </tr>\n",
              "  </tbody>\n",
              "</table>\n",
              "</div>"
            ],
            "text/plain": [
              "  GID_0    NAME_0  ... HASC_1                                           geometry\n",
              "0   PAK  Pakistan  ...  PK.JK  POLYGON ((74.39078 32.80176, 74.38804 32.80345...\n",
              "1   PAK  Pakistan  ...  PK.BA  MULTIPOLYGON (((66.60542 24.90264, 66.60542 24...\n",
              "2   PAK  Pakistan  ...  PK.TA  POLYGON ((70.36974 31.24586, 70.36703 31.22587...\n",
              "3   PAK  Pakistan  ...  PK.IS  POLYGON ((73.14516 33.80333, 73.17208 33.78874...\n",
              "4   PAK  Pakistan  ...  PK.NW  POLYGON ((73.23890 33.83454, 73.23631 33.83214...\n",
              "5   PAK  Pakistan  ...  PK.NA  POLYGON ((75.24538 34.90744, 75.22611 34.88849...\n",
              "6   PAK  Pakistan  ...  PK.PB  POLYGON ((71.12506 27.79225, 71.08701 27.77679...\n",
              "7   PAK  Pakistan  ...  PK.SD  MULTIPOLYGON (((67.99069 23.76347, 67.99069 23...\n",
              "\n",
              "[8 rows x 11 columns]"
            ]
          },
          "metadata": {
            "tags": []
          },
          "execution_count": 75
        }
      ]
    },
    {
      "cell_type": "code",
      "metadata": {
        "id": "DQJrIL3VOAq0",
        "colab_type": "code",
        "colab": {}
      },
      "source": [
        "PAK.drop([\"GID_0\",\"NAME_0\",\"GID_1\",\"VARNAME_1\",\"NL_NAME_1\",\"TYPE_1\",\"ENGTYPE_1\",\"CC_1\", \"HASC_1\"], axis =1, inplace= True)\n"
      ],
      "execution_count": 76,
      "outputs": []
    },
    {
      "cell_type": "code",
      "metadata": {
        "id": "3sL-Kv7oO0fW",
        "colab_type": "code",
        "colab": {
          "base_uri": "https://localhost:8080/",
          "height": 297
        },
        "outputId": "c9b8e3c3-015d-40d8-a87a-93bcefe55476"
      },
      "source": [
        "PAK['Confirmed Cases'] = [1599,11185,1468,14108,20486,1671,87043,105533]\n",
        "PAK"
      ],
      "execution_count": 77,
      "outputs": [
        {
          "output_type": "execute_result",
          "data": {
            "text/html": [
              "<div>\n",
              "<style scoped>\n",
              "    .dataframe tbody tr th:only-of-type {\n",
              "        vertical-align: middle;\n",
              "    }\n",
              "\n",
              "    .dataframe tbody tr th {\n",
              "        vertical-align: top;\n",
              "    }\n",
              "\n",
              "    .dataframe thead th {\n",
              "        text-align: right;\n",
              "    }\n",
              "</style>\n",
              "<table border=\"1\" class=\"dataframe\">\n",
              "  <thead>\n",
              "    <tr style=\"text-align: right;\">\n",
              "      <th></th>\n",
              "      <th>NAME_1</th>\n",
              "      <th>geometry</th>\n",
              "      <th>Confirmed Cases</th>\n",
              "    </tr>\n",
              "  </thead>\n",
              "  <tbody>\n",
              "    <tr>\n",
              "      <th>0</th>\n",
              "      <td>Azad Kashmir</td>\n",
              "      <td>POLYGON ((74.39078 32.80176, 74.38804 32.80345...</td>\n",
              "      <td>1599</td>\n",
              "    </tr>\n",
              "    <tr>\n",
              "      <th>1</th>\n",
              "      <td>Baluchistan</td>\n",
              "      <td>MULTIPOLYGON (((66.60542 24.90264, 66.60542 24...</td>\n",
              "      <td>11185</td>\n",
              "    </tr>\n",
              "    <tr>\n",
              "      <th>2</th>\n",
              "      <td>F.A.T.A.</td>\n",
              "      <td>POLYGON ((70.36974 31.24586, 70.36703 31.22587...</td>\n",
              "      <td>1468</td>\n",
              "    </tr>\n",
              "    <tr>\n",
              "      <th>3</th>\n",
              "      <td>F.C.T.</td>\n",
              "      <td>POLYGON ((73.14516 33.80333, 73.17208 33.78874...</td>\n",
              "      <td>14108</td>\n",
              "    </tr>\n",
              "    <tr>\n",
              "      <th>4</th>\n",
              "      <td>N.W.F.P.</td>\n",
              "      <td>POLYGON ((73.23890 33.83454, 73.23631 33.83214...</td>\n",
              "      <td>20486</td>\n",
              "    </tr>\n",
              "    <tr>\n",
              "      <th>5</th>\n",
              "      <td>Northern Areas</td>\n",
              "      <td>POLYGON ((75.24538 34.90744, 75.22611 34.88849...</td>\n",
              "      <td>1671</td>\n",
              "    </tr>\n",
              "    <tr>\n",
              "      <th>6</th>\n",
              "      <td>Punjab</td>\n",
              "      <td>POLYGON ((71.12506 27.79225, 71.08701 27.77679...</td>\n",
              "      <td>87043</td>\n",
              "    </tr>\n",
              "    <tr>\n",
              "      <th>7</th>\n",
              "      <td>Sind</td>\n",
              "      <td>MULTIPOLYGON (((67.99069 23.76347, 67.99069 23...</td>\n",
              "      <td>105533</td>\n",
              "    </tr>\n",
              "  </tbody>\n",
              "</table>\n",
              "</div>"
            ],
            "text/plain": [
              "           NAME_1  ... Confirmed Cases\n",
              "0    Azad Kashmir  ...            1599\n",
              "1     Baluchistan  ...           11185\n",
              "2        F.A.T.A.  ...            1468\n",
              "3          F.C.T.  ...           14108\n",
              "4        N.W.F.P.  ...           20486\n",
              "5  Northern Areas  ...            1671\n",
              "6          Punjab  ...           87043\n",
              "7            Sind  ...          105533\n",
              "\n",
              "[8 rows x 3 columns]"
            ]
          },
          "metadata": {
            "tags": []
          },
          "execution_count": 77
        }
      ]
    },
    {
      "cell_type": "code",
      "metadata": {
        "id": "VA4T58eCO9Qi",
        "colab_type": "code",
        "colab": {
          "base_uri": "https://localhost:8080/",
          "height": 297
        },
        "outputId": "35c5a3ee-41b4-43ed-b3c6-fbb71f862731"
      },
      "source": [
        "PAK[\"NAME_1\"].replace(\"N.W.F.P.\", \"KPK\", inplace=True)\n",
        "PAK[\"NAME_1\"].replace(\"Northern Areas\", \"GB\", inplace=True)\n",
        "PAK[\"NAME_1\"].replace(\"F.C.T.\", \"Islamabad\", inplace=True)\n",
        "PAK"
      ],
      "execution_count": 78,
      "outputs": [
        {
          "output_type": "execute_result",
          "data": {
            "text/html": [
              "<div>\n",
              "<style scoped>\n",
              "    .dataframe tbody tr th:only-of-type {\n",
              "        vertical-align: middle;\n",
              "    }\n",
              "\n",
              "    .dataframe tbody tr th {\n",
              "        vertical-align: top;\n",
              "    }\n",
              "\n",
              "    .dataframe thead th {\n",
              "        text-align: right;\n",
              "    }\n",
              "</style>\n",
              "<table border=\"1\" class=\"dataframe\">\n",
              "  <thead>\n",
              "    <tr style=\"text-align: right;\">\n",
              "      <th></th>\n",
              "      <th>NAME_1</th>\n",
              "      <th>geometry</th>\n",
              "      <th>Confirmed Cases</th>\n",
              "    </tr>\n",
              "  </thead>\n",
              "  <tbody>\n",
              "    <tr>\n",
              "      <th>0</th>\n",
              "      <td>Azad Kashmir</td>\n",
              "      <td>POLYGON ((74.39078 32.80176, 74.38804 32.80345...</td>\n",
              "      <td>1599</td>\n",
              "    </tr>\n",
              "    <tr>\n",
              "      <th>1</th>\n",
              "      <td>Baluchistan</td>\n",
              "      <td>MULTIPOLYGON (((66.60542 24.90264, 66.60542 24...</td>\n",
              "      <td>11185</td>\n",
              "    </tr>\n",
              "    <tr>\n",
              "      <th>2</th>\n",
              "      <td>F.A.T.A.</td>\n",
              "      <td>POLYGON ((70.36974 31.24586, 70.36703 31.22587...</td>\n",
              "      <td>1468</td>\n",
              "    </tr>\n",
              "    <tr>\n",
              "      <th>3</th>\n",
              "      <td>Islamabad</td>\n",
              "      <td>POLYGON ((73.14516 33.80333, 73.17208 33.78874...</td>\n",
              "      <td>14108</td>\n",
              "    </tr>\n",
              "    <tr>\n",
              "      <th>4</th>\n",
              "      <td>KPK</td>\n",
              "      <td>POLYGON ((73.23890 33.83454, 73.23631 33.83214...</td>\n",
              "      <td>20486</td>\n",
              "    </tr>\n",
              "    <tr>\n",
              "      <th>5</th>\n",
              "      <td>GB</td>\n",
              "      <td>POLYGON ((75.24538 34.90744, 75.22611 34.88849...</td>\n",
              "      <td>1671</td>\n",
              "    </tr>\n",
              "    <tr>\n",
              "      <th>6</th>\n",
              "      <td>Punjab</td>\n",
              "      <td>POLYGON ((71.12506 27.79225, 71.08701 27.77679...</td>\n",
              "      <td>87043</td>\n",
              "    </tr>\n",
              "    <tr>\n",
              "      <th>7</th>\n",
              "      <td>Sind</td>\n",
              "      <td>MULTIPOLYGON (((67.99069 23.76347, 67.99069 23...</td>\n",
              "      <td>105533</td>\n",
              "    </tr>\n",
              "  </tbody>\n",
              "</table>\n",
              "</div>"
            ],
            "text/plain": [
              "         NAME_1  ... Confirmed Cases\n",
              "0  Azad Kashmir  ...            1599\n",
              "1   Baluchistan  ...           11185\n",
              "2      F.A.T.A.  ...            1468\n",
              "3     Islamabad  ...           14108\n",
              "4           KPK  ...           20486\n",
              "5            GB  ...            1671\n",
              "6        Punjab  ...           87043\n",
              "7          Sind  ...          105533\n",
              "\n",
              "[8 rows x 3 columns]"
            ]
          },
          "metadata": {
            "tags": []
          },
          "execution_count": 78
        }
      ]
    },
    {
      "cell_type": "code",
      "metadata": {
        "id": "_vkYO79adOn3",
        "colab_type": "code",
        "colab": {
          "base_uri": "https://localhost:8080/",
          "height": 88
        },
        "outputId": "a90be1d0-eccf-4da5-b294-32b89f9fd5ca"
      },
      "source": [
        "PAK[\"center\"] = PAK[\"geometry\"].centroid\n",
        "za_points = PAK.copy()\n",
        "za_points.set_geometry(\"center\", inplace = True)"
      ],
      "execution_count": 79,
      "outputs": [
        {
          "output_type": "stream",
          "text": [
            "/usr/local/lib/python3.6/dist-packages/ipykernel_launcher.py:1: UserWarning: Geometry is in a geographic CRS. Results from 'centroid' are likely incorrect. Use 'GeoSeries.to_crs()' to re-project geometries to a projected CRS before this operation.\n",
            "\n",
            "  \"\"\"Entry point for launching an IPython kernel.\n"
          ],
          "name": "stderr"
        }
      ]
    },
    {
      "cell_type": "code",
      "metadata": {
        "id": "2GKjrur7gbuW",
        "colab_type": "code",
        "colab": {
          "base_uri": "https://localhost:8080/",
          "height": 265
        },
        "outputId": "f68491a4-744c-45cc-d5b4-9934ea47566d"
      },
      "source": [
        "import matplotlib.pyplot as plt\n",
        "y = PAK['Confirmed Cases']\n",
        "x = PAK['NAME_1']\n",
        "plt.barh(x,y, color=[\"blue\",\"red\",\"Green\"])\n",
        "plt.show()"
      ],
      "execution_count": 80,
      "outputs": [
        {
          "output_type": "display_data",
          "data": {
            "image/png": "[encoded data removed]",
            "text/plain": [
              "<Figure size 432x288 with 1 Axes>"
            ]
          },
          "metadata": {
            "tags": [],
            "needs_background": "light"
          }
        }
      ]
    },
    {
      "cell_type": "code",
      "metadata": {
        "id": "-SAFkLP5dhwb",
        "colab_type": "code",
        "colab": {
          "base_uri": "https://localhost:8080/",
          "height": 576
        },
        "outputId": "a068e330-d703-438b-cbc6-786cf06f548f"
      },
      "source": [
        "import matplotlib.pyplot as plt\n",
        "import pandas as pd\n",
        "import geopandas as gpd\n",
        "from geopandas import GeoDataFrame\n",
        "from shapely.geometry import Point\n",
        "\n",
        "\n",
        "x = PAK.plot(column='Confirmed Cases',\n",
        "              cmap='YlOrRd',\n",
        "              figsize=(10,30), \n",
        "              edgecolor='black',\n",
        "              linewidth=0.4,\n",
        "              legend=True,\n",
        "              scheme='user_defined',\n",
        "              classification_kwds={'bins':[1500,1600,1700,2000,10000,20000,50000,100000,200000]})\n",
        "\n",
        "x.set_axis_off()\n",
        "x.set_title(\"Confirmed COVID-19 Cases in Pakistan till 13th July\",{'fontsize':25}, pad=15)\n",
        "x.get_legend().set_bbox_to_anchor((0.02,0.7))\n",
        "texts = []\n",
        "\n",
        "for x, y, label in zip(za_points.geometry.x, za_points.geometry.y, za_points[\"NAME_1\"]):\n",
        "    texts.append(plt.text(x, y, label, fontsize = 10,color='black'))\n"
      ],
      "execution_count": 81,
      "outputs": [
        {
          "output_type": "display_data",
          "data": {
            "image/png": "[encoded data removed]",
            "text/plain": [
              "<Figure size 720x2160 with 1 Axes>"
            ]
          },
          "metadata": {
            "tags": [],
            "needs_background": "light"
          }
        }
      ]
    },
    {
      "cell_type": "code",
      "metadata": {
        "id": "23hYJPtp_Ulm",
        "colab_type": "code",
        "colab": {}
      },
      "source": [
        ""
      ],
      "execution_count": null,
      "outputs": []
    }
  ]
}